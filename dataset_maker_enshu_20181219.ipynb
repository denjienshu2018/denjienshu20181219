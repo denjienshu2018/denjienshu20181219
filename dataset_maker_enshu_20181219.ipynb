{
 "cells": [
  {
   "cell_type": "code",
   "execution_count": null,
   "metadata": {
    "collapsed": true
   },
   "outputs": [],
   "source": [
    "# 必要なライブラリのインポート\n",
    "import math\n",
    "import numpy as np\n",
    "import random\n",
    "import pickle"
   ]
  },
  {
   "cell_type": "code",
   "execution_count": null,
   "metadata": {
    "collapsed": true
   },
   "outputs": [],
   "source": [
    "\"\"\"\n",
    "課題1:初期値を設定する。\n",
    "\"\"\"\n",
    "############## 課題1 ################\n",
    "length_of_side =  # 立方体の一片の長さ(m)\n",
    "i_max =  # 電流の最大値\n",
    "pi =  # 円周率\n",
    "num_of_dataset =  # データセットの数\n",
    "####################################"
   ]
  },
  {
   "cell_type": "code",
   "execution_count": null,
   "metadata": {
    "collapsed": true
   },
   "outputs": [],
   "source": [
    "# x, y, z座標のリストを作成\n",
    "x_coordinates = []\n",
    "for x in range(11):\n",
    "    x_coordinates.append(x * length_of_side / 10)\n",
    "y_coordinates = []\n",
    "for y in range(11):\n",
    "    y_coordinates.append(y * length_of_side / 10)\n",
    "z_coordinates = []\n",
    "for z in range(11):\n",
    "    z_coordinates.append(z * length_of_side / 10)"
   ]
  },
  {
   "cell_type": "code",
   "execution_count": null,
   "metadata": {
    "collapsed": true
   },
   "outputs": [],
   "source": [
    "# 無限電流を配置し、磁場を作成する関数を定義\n",
    "def make_elec_field():\n",
    "    \"\"\"\n",
    "    課題2:無限電流となる変数elecsを定義し、(3, num_of_elecs)のゼロ行列とする。\n",
    "    0行目0列目:0~i_maxの範囲でランダムに電流値を挿入\n",
    "    1行目0列目:y_coordinatesの中で両端を除いた座標を挿入\n",
    "    2行目0列目:z_coordinatesの中で両端を除いた座標を挿入\n",
    "    0行目1列目:0~i_maxの範囲でランダムに電流値を挿入\n",
    "    1行目1列目:z_coordinatesの中で両端を除いた座標を挿入\n",
    "    2行目1列目:x_coordinatesの中で両端を除いた座標を挿入\n",
    "    \"\"\"\n",
    "    ############## 課題2 ################\n",
    "    \n",
    "    ####################################\n",
    "    \n",
    "    \"\"\"\n",
    "    課題3:磁場となる変数fieldsを定義し、(11, 11, 3, 6)のゼロ行列とする。\n",
    "    11, 11:立方体の１面の座標行列\n",
    "    3:磁場ベクトルxyz成分\n",
    "    6:立方体6面\n",
    "    をそれぞれ表している。\n",
    "    \"\"\"\n",
    "    ############## 課題3 ################\n",
    "    \n",
    "    ####################################\n",
    "    \n",
    "    # x軸平行電流の作る磁場を挿入\n",
    "    elec = elecs[:, 0]\n",
    "    # xy平面(z=0)\n",
    "    z = z_coordinates[0]\n",
    "    for y_index in range(len(y_coordinates)):\n",
    "        y = y_coordinates[y_index]\n",
    "        r = np.array([y - elec[1], z - elec[2]])\n",
    "        r_rotate = np.array([-r[1], r[0]])\n",
    "        fields[:, y_index, 1, 0] += (elec[0] * r_rotate[0]) / (2 * pi * pow(np.linalg.norm(r_rotate), 2))\n",
    "        fields[:, y_index, 2, 0] += (elec[0] * r_rotate[1]) / (2 * pi * pow(np.linalg.norm(r_rotate), 2))\n",
    "    # xy平面(z=0.1)\n",
    "    z = z_coordinates[10]\n",
    "    for y_index in range(len(y_coordinates)):\n",
    "        y = y_coordinates[y_index]\n",
    "        r = np.array([y - elec[1], z - elec[2]])\n",
    "        r_rotate = np.array([-r[1], r[0]])\n",
    "        fields[:, y_index, 1, 1] += (elec[0] * r_rotate[0]) / (2 * pi * pow(np.linalg.norm(r_rotate), 2))\n",
    "        fields[:, y_index, 2, 1] += (elec[0] * r_rotate[1]) / (2 * pi * pow(np.linalg.norm(r_rotate), 2))\n",
    "    # zx平面(y=0)\n",
    "    y = y_coordinates[0]\n",
    "    for z_index in range(len(z_coordinates)):\n",
    "        z = z_coordinates[z_index]\n",
    "        r = np.array([y - elec[1], z - elec[2]])\n",
    "        r_rotate = np.array([-r[1], r[0]])\n",
    "        fields[z_index, :, 1, 4] += (elec[0] * r_rotate[0]) / (2 * pi * pow(np.linalg.norm(r_rotate), 2))\n",
    "        fields[z_index, :, 2, 4] += (elec[0] * r_rotate[1]) / (2 * pi * pow(np.linalg.norm(r_rotate), 2))\n",
    "    # zx平面(y=0.1)\n",
    "    y = y_coordinates[10]\n",
    "    for z_index in range(len(z_coordinates)):\n",
    "        z = z_coordinates[z_index]\n",
    "        r = np.array([y - elec[1], z - elec[2]])\n",
    "        r_rotate = np.array([-r[1], r[0]])\n",
    "        fields[z_index, :, 1, 5] += (elec[0] * r_rotate[0]) / (2 * pi * pow(np.linalg.norm(r_rotate), 2))\n",
    "        fields[z_index, :, 2, 5] += (elec[0] * r_rotate[1]) / (2 * pi * pow(np.linalg.norm(r_rotate), 2))\n",
    "    \"\"\"\n",
    "    課題4:上記スクリプトを参考にy軸平行電流の作る磁場を挿入してください。\n",
    "    自分で書きたい場合は上記を消して実装してください。\n",
    "    \"\"\"\n",
    "    ############## 課題4 ################\n",
    "    \n",
    "    ####################################\n",
    "    return elecs, fields"
   ]
  },
  {
   "cell_type": "code",
   "execution_count": null,
   "metadata": {
    "collapsed": true
   },
   "outputs": [],
   "source": [
    "# デバック\n",
    "elec, field = make_elec_field()\n",
    "print(elec)\n",
    "print(field)"
   ]
  },
  {
   "cell_type": "code",
   "execution_count": null,
   "metadata": {
    "collapsed": true
   },
   "outputs": [],
   "source": [
    "\"\"\"\n",
    "課題5:ゼロ行列dataset_elecs, dataset_fieldsを定義する。\n",
    "それぞれ、(num_of_dataset, 3, 2), (num_of_dataset, 11, 11, 3, 6)のゼロ行列とする。\n",
    "make_elec_field関数をnum_of_dataset回ループし、elecsとfieldsをそれぞれdataset_elecs, dataset_fieldsに挿入していく。\n",
    "dataset_elecs, dataset_fieldsをtuple型としてdatasetという変数に挿入する。\n",
    "dataset変数をpickleファイルとしてローカルストレージに保存する。ファイル名は任意。\n",
    "\"\"\"\n",
    "############## 課題5 ################\n",
    "\n",
    "####################################"
   ]
  }
 ],
 "metadata": {
  "kernelspec": {
   "display_name": "Python 3",
   "language": "python",
   "name": "python3"
  },
  "language_info": {
   "codemirror_mode": {
    "name": "ipython",
    "version": 3
   },
   "file_extension": ".py",
   "mimetype": "text/x-python",
   "name": "python",
   "nbconvert_exporter": "python",
   "pygments_lexer": "ipython3",
   "version": "3.6.0"
  }
 },
 "nbformat": 4,
 "nbformat_minor": 2
}
